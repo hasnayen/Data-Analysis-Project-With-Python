{
  "cells": [
    {
      "cell_type": "markdown",
      "metadata": {
        "id": "view-in-github",
        "colab_type": "text"
      },
      "source": [
        "<a href=\"https://colab.research.google.com/github/hasnayen/Data-Analysis-Project-With-Python/blob/main/Cust_Purch_Data_Exercise.ipynb\" target=\"_parent\"><img src=\"https://colab.research.google.com/assets/colab-badge.svg\" alt=\"Open In Colab\"/></a>"
      ]
    },
    {
      "cell_type": "markdown",
      "metadata": {
        "id": "6h4lWe-EdcPv"
      },
      "source": [
        "# Ecommerce Purchases Exercise Overview\n",
        "\n",
        "Hi Guys,<br>\n",
        "After a crash course on pandas for data analysis, its time to do some practice!!!<br>\n",
        "Because of privacy issues, I have created a fake dataset here with 30K entries. <br>\n",
        "The situation is, customers are providing some personal information while purchasing stuff on-line or in-store. For some reasons, your client wants to know the answer to some of his questions from the dataset, let's try to help him!.<br>\n",
        "\n",
        "*Feel free to consult the solutions if needed. Please note, the tasks given in the exercises, can be solved in different ways. Try your best answer and compare with the solutions.* <br>\n",
        "&#9758; The dataset is provided in the course downloads."
      ]
    },
    {
      "cell_type": "markdown",
      "metadata": {
        "id": "FIjZO3kldcPy"
      },
      "source": [
        "**1. Import Pandas and Read the csv file.**"
      ]
    },
    {
      "cell_type": "code",
      "execution_count": 23,
      "metadata": {
        "collapsed": true,
        "colab": {
          "base_uri": "https://localhost:8080/"
        },
        "id": "TlZ9ykvsdcPz",
        "outputId": "0d78f022-0ef3-42ad-8931-38623161e687"
      },
      "outputs": [
        {
          "output_type": "stream",
          "name": "stdout",
          "text": [
            "Drive already mounted at /content/drive; to attempt to forcibly remount, call drive.mount(\"/content/drive\", force_remount=True).\n"
          ]
        }
      ],
      "source": [
        "from google.colab import drive\n",
        "drive.mount('/content/drive')"
      ]
    },
    {
      "cell_type": "code",
      "source": [
        "import pandas as pd\n",
        "file = \"/content/drive/MyDrive/ODA/Cust_Purch_FakeData.csv\"\n",
        "try:\n",
        "    df = pd.read_csv(file)\n",
        "    print(df)\n",
        "except Exception as e:\n",
        "    print(e)\n"
      ],
      "metadata": {
        "colab": {
          "base_uri": "https://localhost:8080/"
        },
        "id": "X7Z_wv8Qf_Mf",
        "outputId": "0562058e-5807-4cb4-fcf9-cda0206f0c15"
      },
      "execution_count": 100,
      "outputs": [
        {
          "output_type": "stream",
          "name": "stdout",
          "text": [
            "      prefix    first       last              email  gender  age  \\\n",
            "0        Dr.      Ray     Morton    sebvajom@kol.km    Male   38   \n",
            "1       Miss  Claudia  Rodriquez      acu@jatsot.ug  Female   51   \n",
            "2       Miss    Harry      Meyer          zuz@lo.wf  Female   51   \n",
            "3       Miss    Edith    Gilbert  hansohsi@jupec.md  Female   55   \n",
            "4        Dr.     Lura     Murphy     webediti@je.st  Female   20   \n",
            "...      ...      ...        ...                ...     ...  ...   \n",
            "29995    Mr.     John    Maxwell  larlisu@sejenu.ad  Female   38   \n",
            "29996    Dr.   Alfred       Bass      le@duridzo.gh  Female   24   \n",
            "29997   Mrs.   Edward     Curtis      ta@kucemah.et  Female   56   \n",
            "29998    Mr.      Max      Woods       li@mincoz.mp  Female   64   \n",
            "29999    Mr.     Olga  Rodriguez         ner@ota.ec    Male   22   \n",
            "\n",
            "                             company                profession  \\\n",
            "0                     Medtronic Inc.          Health Therapist   \n",
            "1       Ames Department Stores, Inc.          Health Therapist   \n",
            "2                          CSX Corp.       Political Scientist   \n",
            "3             Murphy Oil Corporation    Transportation Manager   \n",
            "4                       PETsMART Inc              Statistician   \n",
            "...                              ...                       ...   \n",
            "29995                  Spherion Corp       Publishing Director   \n",
            "29996                  Ford Motor Co          Diamond Merchant   \n",
            "29997  Park Place Entertainment Corp        Executive Director   \n",
            "29998           Nacco Industries Inc  University Administrator   \n",
            "29999          Texas Industries Inc.           Leasing Manager   \n",
            "\n",
            "                phone   postal province             cc_no   cc_exp  \\\n",
            "0      (987) 619-2695  B6V 3W3       MB  5020000000000230  05/2018   \n",
            "1      (356) 736-7352  G7M 5F3       SK  5020000000000230  07/2028   \n",
            "2      (539) 246-1806  A0Z 6P9       NS  6300000000000000  02/2023   \n",
            "3      (984) 962-7494  P9I 9H3       YT  3530000000000000  02/2028   \n",
            "4      (902) 568-9748  S1A 6K0       ON  4030000000000000  10/2025   \n",
            "...               ...      ...      ...               ...      ...   \n",
            "29995  (873) 298-1178  V4U 0X2       YT  6330000000000000  04/2028   \n",
            "29996  (541) 904-3323  T9O 1H6       PE   201000000000000  12/2026   \n",
            "29997  (375) 931-8605  X5Z 4E1       QC   201000000000000  06/2021   \n",
            "29998  (786) 481-9627  G0S 9Q8       NS    30000000000000  08/2023   \n",
            "29999  (841) 962-4087  N2D 5K3       BC  6300000000000000  05/2024   \n",
            "\n",
            "                         cc_type  price(CAD) fav_color              ip  \\\n",
            "0                           Solo        8.36      Blue    126.23.139.2   \n",
            "1                           Visa       68.31     Black  106.198.76.211   \n",
            "2                         Switch       34.65     Black  186.150.187.29   \n",
            "3                        Maestro       64.59     White   80.140.57.161   \n",
            "4      Diners Club International       20.83    Yellow   211.103.43.41   \n",
            "...                          ...         ...       ...             ...   \n",
            "29995              Visa Electron       90.37       Red  194.14.119.109   \n",
            "29996           American Express        5.94     White  154.114.74.254   \n",
            "29997                    Maestro       65.66     Black   188.0.106.220   \n",
            "29998                       Solo       52.66     Black  129.168.247.27   \n",
            "29999               InstaPayment       17.71    Yellow     70.2.107.65   \n",
            "\n",
            "         weekday ampm        date  \n",
            "0         Sunday   pm  04/05/1930  \n",
            "1        Tuesday   am  12/20/1926  \n",
            "2      Wednesday   pm  08/20/1931  \n",
            "3       Saturday   am  06/18/2001  \n",
            "4         Friday   pm  06/14/2045  \n",
            "...          ...  ...         ...  \n",
            "29995     Sunday   am  04/18/2014  \n",
            "29996     Sunday   pm  09/27/2068  \n",
            "29997     Monday   pm  09/07/1997  \n",
            "29998     Monday   pm  09/08/1938  \n",
            "29999  Wednesday   am  06/22/1956  \n",
            "\n",
            "[30000 rows x 20 columns]\n"
          ]
        }
      ]
    },
    {
      "cell_type": "markdown",
      "metadata": {
        "id": "iUs2AhyEdcP0"
      },
      "source": [
        "**2. Its good idea to see how the data look like, display first 5 rows of your data-set.**"
      ]
    },
    {
      "cell_type": "code",
      "execution_count": 101,
      "metadata": {
        "collapsed": true,
        "colab": {
          "base_uri": "https://localhost:8080/"
        },
        "id": "H8cqdU1idcP1",
        "outputId": "c6898291-57da-4b9d-a417-21d3af13d08d"
      },
      "outputs": [
        {
          "output_type": "stream",
          "name": "stdout",
          "text": [
            "  prefix    first       last              email  gender  age  \\\n",
            "0    Dr.      Ray     Morton    sebvajom@kol.km    Male   38   \n",
            "1   Miss  Claudia  Rodriquez      acu@jatsot.ug  Female   51   \n",
            "2   Miss    Harry      Meyer          zuz@lo.wf  Female   51   \n",
            "3   Miss    Edith    Gilbert  hansohsi@jupec.md  Female   55   \n",
            "4    Dr.     Lura     Murphy     webediti@je.st  Female   20   \n",
            "\n",
            "                        company              profession           phone  \\\n",
            "0                Medtronic Inc.        Health Therapist  (987) 619-2695   \n",
            "1  Ames Department Stores, Inc.        Health Therapist  (356) 736-7352   \n",
            "2                     CSX Corp.     Political Scientist  (539) 246-1806   \n",
            "3        Murphy Oil Corporation  Transportation Manager  (984) 962-7494   \n",
            "4                  PETsMART Inc            Statistician  (902) 568-9748   \n",
            "\n",
            "    postal province             cc_no   cc_exp                    cc_type  \\\n",
            "0  B6V 3W3       MB  5020000000000230  05/2018                       Solo   \n",
            "1  G7M 5F3       SK  5020000000000230  07/2028                       Visa   \n",
            "2  A0Z 6P9       NS  6300000000000000  02/2023                     Switch   \n",
            "3  P9I 9H3       YT  3530000000000000  02/2028                    Maestro   \n",
            "4  S1A 6K0       ON  4030000000000000  10/2025  Diners Club International   \n",
            "\n",
            "   price(CAD) fav_color              ip    weekday ampm        date  \n",
            "0        8.36      Blue    126.23.139.2     Sunday   pm  04/05/1930  \n",
            "1       68.31     Black  106.198.76.211    Tuesday   am  12/20/1926  \n",
            "2       34.65     Black  186.150.187.29  Wednesday   pm  08/20/1931  \n",
            "3       64.59     White   80.140.57.161   Saturday   am  06/18/2001  \n",
            "4       20.83    Yellow   211.103.43.41     Friday   pm  06/14/2045  \n"
          ]
        }
      ],
      "source": [
        "head = df.head(5)\n",
        "print(head)\n"
      ]
    },
    {
      "cell_type": "code",
      "execution_count": null,
      "metadata": {
        "id": "r8hLH5YddcP2",
        "outputId": "7d14024a-3b91-423f-e4de-8b39d34cf8c5"
      },
      "outputs": [
        {
          "data": {
            "text/html": [
              "<div>\n",
              "<style>\n",
              "    .dataframe thead tr:only-child th {\n",
              "        text-align: right;\n",
              "    }\n",
              "\n",
              "    .dataframe thead th {\n",
              "        text-align: left;\n",
              "    }\n",
              "\n",
              "    .dataframe tbody tr th {\n",
              "        vertical-align: top;\n",
              "    }\n",
              "</style>\n",
              "<table border=\"1\" class=\"dataframe\">\n",
              "  <thead>\n",
              "    <tr style=\"text-align: right;\">\n",
              "      <th></th>\n",
              "      <th>prefix</th>\n",
              "      <th>first</th>\n",
              "      <th>last</th>\n",
              "      <th>email</th>\n",
              "      <th>gender</th>\n",
              "      <th>age</th>\n",
              "      <th>company</th>\n",
              "      <th>profession</th>\n",
              "      <th>phone</th>\n",
              "      <th>postal</th>\n",
              "      <th>province</th>\n",
              "      <th>cc_no</th>\n",
              "      <th>cc_exp</th>\n",
              "      <th>cc_type</th>\n",
              "      <th>price(CAD)</th>\n",
              "      <th>fav_color</th>\n",
              "      <th>ip</th>\n",
              "      <th>weekday</th>\n",
              "      <th>ampm</th>\n",
              "      <th>date</th>\n",
              "    </tr>\n",
              "  </thead>\n",
              "  <tbody>\n",
              "    <tr>\n",
              "      <th>0</th>\n",
              "      <td>Dr.</td>\n",
              "      <td>Ray</td>\n",
              "      <td>Morton</td>\n",
              "      <td>sebvajom@kol.km</td>\n",
              "      <td>Male</td>\n",
              "      <td>38</td>\n",
              "      <td>Medtronic Inc.</td>\n",
              "      <td>Health Therapist</td>\n",
              "      <td>(987) 619-2695</td>\n",
              "      <td>B6V 3W3</td>\n",
              "      <td>MB</td>\n",
              "      <td>5020000000000230</td>\n",
              "      <td>05/2018</td>\n",
              "      <td>Solo</td>\n",
              "      <td>8.36</td>\n",
              "      <td>Blue</td>\n",
              "      <td>126.23.139.2</td>\n",
              "      <td>Sunday</td>\n",
              "      <td>pm</td>\n",
              "      <td>04/05/1930</td>\n",
              "    </tr>\n",
              "    <tr>\n",
              "      <th>1</th>\n",
              "      <td>Miss</td>\n",
              "      <td>Claudia</td>\n",
              "      <td>Rodriquez</td>\n",
              "      <td>acu@jatsot.ug</td>\n",
              "      <td>Female</td>\n",
              "      <td>51</td>\n",
              "      <td>Ames Department Stores, Inc.</td>\n",
              "      <td>Health Therapist</td>\n",
              "      <td>(356) 736-7352</td>\n",
              "      <td>G7M 5F3</td>\n",
              "      <td>SK</td>\n",
              "      <td>5020000000000230</td>\n",
              "      <td>07/2028</td>\n",
              "      <td>Visa</td>\n",
              "      <td>68.31</td>\n",
              "      <td>Black</td>\n",
              "      <td>106.198.76.211</td>\n",
              "      <td>Tuesday</td>\n",
              "      <td>am</td>\n",
              "      <td>12/20/1926</td>\n",
              "    </tr>\n",
              "    <tr>\n",
              "      <th>2</th>\n",
              "      <td>Miss</td>\n",
              "      <td>Harry</td>\n",
              "      <td>Meyer</td>\n",
              "      <td>zuz@lo.wf</td>\n",
              "      <td>Female</td>\n",
              "      <td>51</td>\n",
              "      <td>CSX Corp.</td>\n",
              "      <td>Political Scientist</td>\n",
              "      <td>(539) 246-1806</td>\n",
              "      <td>A0Z 6P9</td>\n",
              "      <td>NS</td>\n",
              "      <td>6300000000000000</td>\n",
              "      <td>02/2023</td>\n",
              "      <td>Switch</td>\n",
              "      <td>34.65</td>\n",
              "      <td>Black</td>\n",
              "      <td>186.150.187.29</td>\n",
              "      <td>Wednesday</td>\n",
              "      <td>pm</td>\n",
              "      <td>08/20/1931</td>\n",
              "    </tr>\n",
              "    <tr>\n",
              "      <th>3</th>\n",
              "      <td>Miss</td>\n",
              "      <td>Edith</td>\n",
              "      <td>Gilbert</td>\n",
              "      <td>hansohsi@jupec.md</td>\n",
              "      <td>Female</td>\n",
              "      <td>55</td>\n",
              "      <td>Murphy Oil Corporation</td>\n",
              "      <td>Transportation Manager</td>\n",
              "      <td>(984) 962-7494</td>\n",
              "      <td>P9I 9H3</td>\n",
              "      <td>YT</td>\n",
              "      <td>3530000000000000</td>\n",
              "      <td>02/2028</td>\n",
              "      <td>Maestro</td>\n",
              "      <td>64.59</td>\n",
              "      <td>White</td>\n",
              "      <td>80.140.57.161</td>\n",
              "      <td>Saturday</td>\n",
              "      <td>am</td>\n",
              "      <td>06/18/2001</td>\n",
              "    </tr>\n",
              "    <tr>\n",
              "      <th>4</th>\n",
              "      <td>Dr.</td>\n",
              "      <td>Lura</td>\n",
              "      <td>Murphy</td>\n",
              "      <td>webediti@je.st</td>\n",
              "      <td>Female</td>\n",
              "      <td>20</td>\n",
              "      <td>PETsMART Inc</td>\n",
              "      <td>Statistician</td>\n",
              "      <td>(902) 568-9748</td>\n",
              "      <td>S1A 6K0</td>\n",
              "      <td>ON</td>\n",
              "      <td>4030000000000000</td>\n",
              "      <td>10/2025</td>\n",
              "      <td>Diners Club International</td>\n",
              "      <td>20.83</td>\n",
              "      <td>Yellow</td>\n",
              "      <td>211.103.43.41</td>\n",
              "      <td>Friday</td>\n",
              "      <td>pm</td>\n",
              "      <td>06/14/2045</td>\n",
              "    </tr>\n",
              "  </tbody>\n",
              "</table>\n",
              "</div>"
            ],
            "text/plain": [
              "  prefix    first       last              email  gender  age  \\\n",
              "0    Dr.      Ray     Morton    sebvajom@kol.km    Male   38   \n",
              "1   Miss  Claudia  Rodriquez      acu@jatsot.ug  Female   51   \n",
              "2   Miss    Harry      Meyer          zuz@lo.wf  Female   51   \n",
              "3   Miss    Edith    Gilbert  hansohsi@jupec.md  Female   55   \n",
              "4    Dr.     Lura     Murphy     webediti@je.st  Female   20   \n",
              "\n",
              "                        company              profession           phone  \\\n",
              "0                Medtronic Inc.        Health Therapist  (987) 619-2695   \n",
              "1  Ames Department Stores, Inc.        Health Therapist  (356) 736-7352   \n",
              "2                     CSX Corp.     Political Scientist  (539) 246-1806   \n",
              "3        Murphy Oil Corporation  Transportation Manager  (984) 962-7494   \n",
              "4                  PETsMART Inc            Statistician  (902) 568-9748   \n",
              "\n",
              "    postal province             cc_no   cc_exp                    cc_type  \\\n",
              "0  B6V 3W3       MB  5020000000000230  05/2018                       Solo   \n",
              "1  G7M 5F3       SK  5020000000000230  07/2028                       Visa   \n",
              "2  A0Z 6P9       NS  6300000000000000  02/2023                     Switch   \n",
              "3  P9I 9H3       YT  3530000000000000  02/2028                    Maestro   \n",
              "4  S1A 6K0       ON  4030000000000000  10/2025  Diners Club International   \n",
              "\n",
              "   price(CAD) fav_color              ip    weekday ampm        date  \n",
              "0        8.36      Blue    126.23.139.2     Sunday   pm  04/05/1930  \n",
              "1       68.31     Black  106.198.76.211    Tuesday   am  12/20/1926  \n",
              "2       34.65     Black  186.150.187.29  Wednesday   pm  08/20/1931  \n",
              "3       64.59     White   80.140.57.161   Saturday   am  06/18/2001  \n",
              "4       20.83    Yellow   211.103.43.41     Friday   pm  06/14/2045  "
            ]
          },
          "execution_count": 3,
          "metadata": {},
          "output_type": "execute_result"
        }
      ],
      "source": []
    },
    {
      "cell_type": "markdown",
      "metadata": {
        "id": "6e7kHE9GdcP3"
      },
      "source": [
        "**3. How many entries your data have?\n",
        "Can you tell the no. of columns in your data?**"
      ]
    },
    {
      "cell_type": "code",
      "execution_count": null,
      "metadata": {
        "collapsed": true,
        "colab": {
          "base_uri": "https://localhost:8080/"
        },
        "id": "oUxtZtwydcP3",
        "outputId": "6538d727-a6ce-4085-baa2-e46bac9ffb0a"
      },
      "outputs": [
        {
          "output_type": "stream",
          "name": "stdout",
          "text": [
            "<class 'pandas.core.frame.DataFrame'>\n",
            "RangeIndex: 30000 entries, 0 to 29999\n",
            "Data columns (total 20 columns):\n",
            " #   Column      Non-Null Count  Dtype  \n",
            "---  ------      --------------  -----  \n",
            " 0   prefix      30000 non-null  object \n",
            " 1   first       30000 non-null  object \n",
            " 2   last        30000 non-null  object \n",
            " 3   email       30000 non-null  object \n",
            " 4   gender      30000 non-null  object \n",
            " 5   age         30000 non-null  int64  \n",
            " 6   company     30000 non-null  object \n",
            " 7   profession  30000 non-null  object \n",
            " 8   phone       30000 non-null  object \n",
            " 9   postal      30000 non-null  object \n",
            " 10  province    30000 non-null  object \n",
            " 11  cc_no       30000 non-null  int64  \n",
            " 12  cc_exp      30000 non-null  object \n",
            " 13  cc_type     30000 non-null  object \n",
            " 14  price(CAD)  30000 non-null  float64\n",
            " 15  fav_color   30000 non-null  object \n",
            " 16  ip          30000 non-null  object \n",
            " 17  weekday     30000 non-null  object \n",
            " 18  ampm        30000 non-null  object \n",
            " 19  date        30000 non-null  object \n",
            "dtypes: float64(1), int64(2), object(17)\n",
            "memory usage: 4.6+ MB\n",
            "None\n"
          ]
        }
      ],
      "source": [
        "datatyps = df.info()\n",
        "print(datatyps)"
      ]
    },
    {
      "cell_type": "code",
      "execution_count": null,
      "metadata": {
        "id": "Ng4MqudPdcP5",
        "outputId": "f8818a30-fdb9-4b3a-8000-1d37d4357bad"
      },
      "outputs": [
        {
          "name": "stdout",
          "output_type": "stream",
          "text": [
            "<class 'pandas.core.frame.DataFrame'>\n",
            "RangeIndex: 30000 entries, 0 to 29999\n",
            "Data columns (total 20 columns):\n",
            "prefix        30000 non-null object\n",
            "first         30000 non-null object\n",
            "last          30000 non-null object\n",
            "email         30000 non-null object\n",
            "gender        30000 non-null object\n",
            "age           30000 non-null int64\n",
            "company       30000 non-null object\n",
            "profession    30000 non-null object\n",
            "phone         30000 non-null object\n",
            "postal        30000 non-null object\n",
            "province      30000 non-null object\n",
            "cc_no         30000 non-null int64\n",
            "cc_exp        30000 non-null object\n",
            "cc_type       30000 non-null object\n",
            "price(CAD)    30000 non-null float64\n",
            "fav_color     30000 non-null object\n",
            "ip            30000 non-null object\n",
            "weekday       30000 non-null object\n",
            "ampm          30000 non-null object\n",
            "date          30000 non-null object\n",
            "dtypes: float64(1), int64(2), object(17)\n",
            "memory usage: 4.6+ MB\n"
          ]
        }
      ],
      "source": []
    },
    {
      "cell_type": "markdown",
      "metadata": {
        "id": "uNiOgqWZdcP5"
      },
      "source": [
        "**4. What are the max and min ages of your customer? Can you find mean of your customer?**"
      ]
    },
    {
      "cell_type": "code",
      "execution_count": null,
      "metadata": {
        "collapsed": true,
        "colab": {
          "base_uri": "https://localhost:8080/"
        },
        "id": "otifHto6dcP5",
        "outputId": "ff64b83a-9bf0-42f6-ffc4-f9c9e9696274"
      },
      "outputs": [
        {
          "output_type": "stream",
          "name": "stdout",
          "text": [
            "Max. age of the customer is:  65\n",
            "Min. age of the customer is:  18\n",
            "Avg. age of the customer is:  41.550066666666666\n"
          ]
        }
      ],
      "source": [
        "print(\"Max. age of the customer is: \",df['age'].max())\n",
        "print(\"Min. age of the customer is: \",df['age'].min())\n",
        "print(\"Avg. age of the customer is: \",df['age'].mean())"
      ]
    },
    {
      "cell_type": "code",
      "execution_count": null,
      "metadata": {
        "id": "YYp48VA1dcP7",
        "outputId": "0810c706-ace6-495c-c1e1-912810185c26"
      },
      "outputs": [
        {
          "name": "stdout",
          "output_type": "stream",
          "text": [
            "Max. age of the customer is:  65\n",
            "Max. age of the customer is:  18\n",
            "Avg. age of the customer is:  41.550066666666666\n"
          ]
        }
      ],
      "source": []
    },
    {
      "cell_type": "markdown",
      "metadata": {
        "id": "mz-YcUEXdcP7"
      },
      "source": [
        "**5. What are the three most common customer's names?**<br>\n",
        "&#9989; [<code>**value_counts()**</code>](http://pandas.pydata.org/pandas-docs/stable/generated/pandas.Series.value_counts.html) returns object containing counts of unique values. The resulting object will be in descending order so that the first element is the most frequently-occurring element. Excludes NA values by default."
      ]
    },
    {
      "cell_type": "code",
      "execution_count": 40,
      "metadata": {
        "collapsed": true,
        "colab": {
          "base_uri": "https://localhost:8080/"
        },
        "id": "WXIBg62FdcP8",
        "outputId": "b15b7b20-3d13-43dc-f1f3-68777f191a94"
      },
      "outputs": [
        {
          "output_type": "stream",
          "name": "stdout",
          "text": [
            "first\n",
            "Willie     130\n",
            "Francis    124\n",
            "Eula        86\n",
            "Name: count, dtype: int64\n"
          ]
        }
      ],
      "source": [
        "customer_name_counts = df['first'].value_counts()\n",
        "other_names = customer_name_counts.head(3)\n",
        "print(other_names)"
      ]
    },
    {
      "cell_type": "code",
      "execution_count": null,
      "metadata": {
        "id": "ixZzF8x3dcP8",
        "outputId": "0b24402a-88e5-4e0e-80a5-969c58064bc9"
      },
      "outputs": [
        {
          "data": {
            "text/plain": [
              "Willie     130\n",
              "Francis    124\n",
              "Eula        86\n",
              "Name: first, dtype: int64"
            ]
          },
          "execution_count": 6,
          "metadata": {},
          "output_type": "execute_result"
        }
      ],
      "source": []
    },
    {
      "cell_type": "markdown",
      "metadata": {
        "id": "ru9Qe2bydcP8"
      },
      "source": [
        "**6. Two customers have the same phone number, can you find those customers**?"
      ]
    },
    {
      "cell_type": "code",
      "execution_count": 55,
      "metadata": {
        "collapsed": true,
        "id": "TFs92a2YdcP9",
        "colab": {
          "base_uri": "https://localhost:8080/"
        },
        "outputId": "f6bbad7f-3d74-42fb-edef-921e731de093"
      },
      "outputs": [
        {
          "output_type": "stream",
          "name": "stdout",
          "text": [
            "phone\n",
            "(263) 382-8004    2\n",
            "Name: count, dtype: int64\n"
          ]
        }
      ],
      "source": [
        "duplicate = df[\"phone\"].value_counts()\n",
        "duplicate = duplicate[duplicate > 1]\n",
        "print(duplicate)"
      ]
    },
    {
      "cell_type": "code",
      "execution_count": null,
      "metadata": {
        "scrolled": true,
        "id": "VA4b4NcddcP9",
        "outputId": "09a93bee-4df0-4b95-b6cb-169afac5f776"
      },
      "outputs": [
        {
          "data": {
            "text/plain": [
              "(263) 382-8004    2\n",
              "(668) 836-2738    1\n",
              "Name: phone, dtype: int64"
            ]
          },
          "execution_count": 7,
          "metadata": {},
          "output_type": "execute_result"
        }
      ],
      "source": [
        "# lets find what phone number is twice!\n"
      ]
    },
    {
      "cell_type": "code",
      "execution_count": 56,
      "metadata": {
        "collapsed": true,
        "id": "BuvmJoFadcP9",
        "colab": {
          "base_uri": "https://localhost:8080/"
        },
        "outputId": "e2e5b04b-15a8-44ae-c11c-13380c38d71e"
      },
      "outputs": [
        {
          "output_type": "stream",
          "name": "stdout",
          "text": [
            "   prefix  first   last                email  gender  age            company  \\\n",
            "15   Mrs.  Lilly  Tyler      kofadu@itohi.tf  Female   38          CSX Corp.   \n",
            "16   Mrs.  Peter   Cain  megkosig@anazeor.gn    Male   27  Campbell Soup Co.   \n",
            "\n",
            "             profession           phone   postal province             cc_no  \\\n",
            "15  Structural Engineer  (263) 382-8004  V7K 1E3       ON    30000000000000   \n",
            "16   Insurance Adjuster  (263) 382-8004  E8T 2B4       YT  3530000000000000   \n",
            "\n",
            "     cc_exp                    cc_type  price(CAD) fav_color              ip  \\\n",
            "15  11/2022  Diners Club Carte Blanche        9.61    Yellow   74.124.37.227   \n",
            "16  03/2024                       Solo       13.74     Black  25.207.141.135   \n",
            "\n",
            "     weekday ampm        date  \n",
            "15  Saturday   am  03/30/1985  \n",
            "16   Tuesday   am  08/05/1950  \n"
          ]
        }
      ],
      "source": [
        "other = df[df[\"phone\"] == \"(263) 382-8004\"]\n",
        "print(other)"
      ]
    },
    {
      "cell_type": "code",
      "execution_count": null,
      "metadata": {
        "id": "3DJ3wz4tdcP-",
        "outputId": "fca7c6b3-d9d6-4272-ab8a-25af1b26ba61"
      },
      "outputs": [
        {
          "data": {
            "text/html": [
              "<div>\n",
              "<style>\n",
              "    .dataframe thead tr:only-child th {\n",
              "        text-align: right;\n",
              "    }\n",
              "\n",
              "    .dataframe thead th {\n",
              "        text-align: left;\n",
              "    }\n",
              "\n",
              "    .dataframe tbody tr th {\n",
              "        vertical-align: top;\n",
              "    }\n",
              "</style>\n",
              "<table border=\"1\" class=\"dataframe\">\n",
              "  <thead>\n",
              "    <tr style=\"text-align: right;\">\n",
              "      <th></th>\n",
              "      <th>prefix</th>\n",
              "      <th>first</th>\n",
              "      <th>last</th>\n",
              "      <th>email</th>\n",
              "      <th>gender</th>\n",
              "      <th>age</th>\n",
              "      <th>company</th>\n",
              "      <th>profession</th>\n",
              "      <th>phone</th>\n",
              "      <th>postal</th>\n",
              "      <th>province</th>\n",
              "      <th>cc_no</th>\n",
              "      <th>cc_exp</th>\n",
              "      <th>cc_type</th>\n",
              "      <th>price(CAD)</th>\n",
              "      <th>fav_color</th>\n",
              "      <th>ip</th>\n",
              "      <th>weekday</th>\n",
              "      <th>ampm</th>\n",
              "      <th>date</th>\n",
              "    </tr>\n",
              "  </thead>\n",
              "  <tbody>\n",
              "    <tr>\n",
              "      <th>15</th>\n",
              "      <td>Mrs.</td>\n",
              "      <td>Lilly</td>\n",
              "      <td>Tyler</td>\n",
              "      <td>kofadu@itohi.tf</td>\n",
              "      <td>Female</td>\n",
              "      <td>38</td>\n",
              "      <td>CSX Corp.</td>\n",
              "      <td>Structural Engineer</td>\n",
              "      <td>(263) 382-8004</td>\n",
              "      <td>V7K 1E3</td>\n",
              "      <td>ON</td>\n",
              "      <td>30000000000000</td>\n",
              "      <td>11/2022</td>\n",
              "      <td>Diners Club Carte Blanche</td>\n",
              "      <td>9.61</td>\n",
              "      <td>Yellow</td>\n",
              "      <td>74.124.37.227</td>\n",
              "      <td>Saturday</td>\n",
              "      <td>am</td>\n",
              "      <td>03/30/1985</td>\n",
              "    </tr>\n",
              "    <tr>\n",
              "      <th>16</th>\n",
              "      <td>Mrs.</td>\n",
              "      <td>Peter</td>\n",
              "      <td>Cain</td>\n",
              "      <td>megkosig@anazeor.gn</td>\n",
              "      <td>Male</td>\n",
              "      <td>27</td>\n",
              "      <td>Campbell Soup Co.</td>\n",
              "      <td>Insurance Adjuster</td>\n",
              "      <td>(263) 382-8004</td>\n",
              "      <td>E8T 2B4</td>\n",
              "      <td>YT</td>\n",
              "      <td>3530000000000000</td>\n",
              "      <td>03/2024</td>\n",
              "      <td>Solo</td>\n",
              "      <td>13.74</td>\n",
              "      <td>Black</td>\n",
              "      <td>25.207.141.135</td>\n",
              "      <td>Tuesday</td>\n",
              "      <td>am</td>\n",
              "      <td>08/05/1950</td>\n",
              "    </tr>\n",
              "  </tbody>\n",
              "</table>\n",
              "</div>"
            ],
            "text/plain": [
              "   prefix  first   last                email  gender  age            company  \\\n",
              "15   Mrs.  Lilly  Tyler      kofadu@itohi.tf  Female   38          CSX Corp.   \n",
              "16   Mrs.  Peter   Cain  megkosig@anazeor.gn    Male   27  Campbell Soup Co.   \n",
              "\n",
              "             profession           phone   postal province             cc_no  \\\n",
              "15  Structural Engineer  (263) 382-8004  V7K 1E3       ON    30000000000000   \n",
              "16   Insurance Adjuster  (263) 382-8004  E8T 2B4       YT  3530000000000000   \n",
              "\n",
              "     cc_exp                    cc_type  price(CAD) fav_color              ip  \\\n",
              "15  11/2022  Diners Club Carte Blanche        9.61    Yellow   74.124.37.227   \n",
              "16  03/2024                       Solo       13.74     Black  25.207.141.135   \n",
              "\n",
              "     weekday ampm        date  \n",
              "15  Saturday   am  03/30/1985  \n",
              "16   Tuesday   am  08/05/1950  "
            ]
          },
          "execution_count": 8,
          "metadata": {},
          "output_type": "execute_result"
        }
      ],
      "source": [
        "# Now we know the phone number, let's find out the other stuff!\n"
      ]
    },
    {
      "cell_type": "markdown",
      "metadata": {
        "id": "_iD43v71dcP_"
      },
      "source": [
        "**7. How many customers have profession \"Structural Engineer\"?**"
      ]
    },
    {
      "cell_type": "code",
      "execution_count": 57,
      "metadata": {
        "collapsed": true,
        "id": "rvgvA176dcP_",
        "colab": {
          "base_uri": "https://localhost:8080/"
        },
        "outputId": "0df76d8e-6fd2-46bc-f9c4-fe7ee6e0251f"
      },
      "outputs": [
        {
          "output_type": "stream",
          "name": "stdout",
          "text": [
            "prefix        87\n",
            "first         87\n",
            "last          87\n",
            "email         87\n",
            "gender        87\n",
            "age           87\n",
            "company       87\n",
            "profession    87\n",
            "phone         87\n",
            "postal        87\n",
            "province      87\n",
            "cc_no         87\n",
            "cc_exp        87\n",
            "cc_type       87\n",
            "price(CAD)    87\n",
            "fav_color     87\n",
            "ip            87\n",
            "weekday       87\n",
            "ampm          87\n",
            "date          87\n",
            "dtype: int64\n"
          ]
        }
      ],
      "source": [
        "SE = df[df[\"profession\"] == \"Structural Engineer\"].count()\n",
        "print(SE)"
      ]
    },
    {
      "cell_type": "code",
      "execution_count": null,
      "metadata": {
        "id": "jMLJ1JmidcQA",
        "outputId": "fe8827b9-ecfe-4c57-f1d5-f572e003f4e6"
      },
      "outputs": [
        {
          "data": {
            "text/plain": [
              "prefix        87\n",
              "first         87\n",
              "last          87\n",
              "email         87\n",
              "gender        87\n",
              "age           87\n",
              "company       87\n",
              "profession    87\n",
              "phone         87\n",
              "postal        87\n",
              "province      87\n",
              "cc_no         87\n",
              "cc_exp        87\n",
              "cc_type       87\n",
              "price(CAD)    87\n",
              "fav_color     87\n",
              "ip            87\n",
              "weekday       87\n",
              "ampm          87\n",
              "date          87\n",
              "dtype: int64"
            ]
          },
          "execution_count": 9,
          "metadata": {},
          "output_type": "execute_result"
        }
      ],
      "source": []
    },
    {
      "cell_type": "markdown",
      "metadata": {
        "id": "2NdUQznhdcQA"
      },
      "source": [
        "**8. How many male customers are 'Structural Engineer'?**"
      ]
    },
    {
      "cell_type": "code",
      "execution_count": 63,
      "metadata": {
        "collapsed": true,
        "id": "XtBJkO0qdcQA",
        "colab": {
          "base_uri": "https://localhost:8080/"
        },
        "outputId": "b20743c0-fa74-493a-a772-e5f763183398"
      },
      "outputs": [
        {
          "output_type": "stream",
          "name": "stdout",
          "text": [
            "prefix        43\n",
            "first         43\n",
            "last          43\n",
            "email         43\n",
            "gender        43\n",
            "age           43\n",
            "company       43\n",
            "profession    43\n",
            "phone         43\n",
            "postal        43\n",
            "province      43\n",
            "cc_no         43\n",
            "cc_exp        43\n",
            "cc_type       43\n",
            "price(CAD)    43\n",
            "fav_color     43\n",
            "ip            43\n",
            "weekday       43\n",
            "ampm          43\n",
            "date          43\n",
            "dtype: int64\n"
          ]
        }
      ],
      "source": [
        "SE_gen = df[(df[\"profession\"] == \"Structural Engineer\") & (df[\"gender\"] == \"Male\")].count()\n",
        "print(SE_gen)"
      ]
    },
    {
      "cell_type": "code",
      "execution_count": null,
      "metadata": {
        "id": "5bQscM9cdcQB",
        "outputId": "01a403b0-342e-4b69-b29d-0fb2540d8501"
      },
      "outputs": [
        {
          "data": {
            "text/plain": [
              "prefix        43\n",
              "first         43\n",
              "last          43\n",
              "email         43\n",
              "gender        43\n",
              "age           43\n",
              "company       43\n",
              "profession    43\n",
              "phone         43\n",
              "postal        43\n",
              "province      43\n",
              "cc_no         43\n",
              "cc_exp        43\n",
              "cc_type       43\n",
              "price(CAD)    43\n",
              "fav_color     43\n",
              "ip            43\n",
              "weekday       43\n",
              "ampm          43\n",
              "date          43\n",
              "dtype: int64"
            ]
          },
          "execution_count": 10,
          "metadata": {},
          "output_type": "execute_result"
        }
      ],
      "source": []
    },
    {
      "cell_type": "markdown",
      "metadata": {
        "id": "JPN228pTdcQB"
      },
      "source": [
        "**9. Find out the female Structural Engineers from province Alberta (AB)?**"
      ]
    },
    {
      "cell_type": "code",
      "execution_count": 65,
      "metadata": {
        "collapsed": true,
        "id": "cb6JyjNAdcQB",
        "colab": {
          "base_uri": "https://localhost:8080/"
        },
        "outputId": "a0a2049d-4d68-4404-a4b8-8fd1688f6334"
      },
      "outputs": [
        {
          "output_type": "stream",
          "name": "stdout",
          "text": [
            "      prefix      first       last                 email  gender  age  \\\n",
            "15      Mrs.      Lilly      Tyler       kofadu@itohi.tf  Female   38   \n",
            "321     Miss     Mittie       Beck       huw@hotmail.com  Female   18   \n",
            "347      Mr.    Theresa      Woods     keope@hotmail.com  Female   44   \n",
            "1985    Miss       Olga   Griffith    dekonlis@gmail.com  Female   39   \n",
            "2231    Miss       Rosa   Castillo          er@gmail.com  Female   20   \n",
            "2585    Mrs.     Teresa       Lamb     saoluiv@gmail.com  Female   61   \n",
            "4196     Mr.       Dale    Fleming          le@yahoo.com  Female   36   \n",
            "4348    Miss    Derrick    Freeman       edelu@gmail.com  Female   63   \n",
            "4494    Mrs.       Alta      Gross          nu@gmail.com  Female   64   \n",
            "4925    Mrs.     Milton     Austin        uhmo@yahoo.com  Female   57   \n",
            "6088    Miss       Evan       Wise  luniluogi@pakogmu.nc  Female   61   \n",
            "6463     Dr.        Don      Lyons       adotini@tevu.fr  Female   57   \n",
            "8601     Dr.     Willie     Pierce    manotidi@tomeji.mc  Female   32   \n",
            "8858     Dr.        Roy    Stanley     apiunvo@ehasom.ir  Female   39   \n",
            "8910    Miss        Jon      Jones   vadwifos@pokizzi.mc  Female   63   \n",
            "9058     Mr.       Lora    Kennedy       dennap@rabac.se  Female   51   \n",
            "9564    Miss     Louise     Massey        nezti@wogog.ga  Female   57   \n",
            "9816    Mrs.      Aaron     Holmes           hone@puh.bq  Female   51   \n",
            "9915     Dr.     Nettie     Fuller           depu@ivu.sc  Female   60   \n",
            "11580    Mr.    Blanche    Nichols     ijamo@outlook.com  Female   44   \n",
            "12494    Dr.       Bess     Garcia        ju@outlook.com  Female   38   \n",
            "12533    Dr.     Mattie      Scott           vi@live.com  Female   23   \n",
            "13923    Mr.      David     Ingram       mavgen@live.com  Female   65   \n",
            "16444    Mr.  Christina      Wolfe        wipakete@hu.cf  Female   29   \n",
            "17339   Mrs.      Mamie       Beck           ki@ijpon.tr  Female   44   \n",
            "18808    Mr.       Ruby      Poole      fibjigaf@limi.sc  Female   45   \n",
            "18816   Miss      Hulda     Potter           deem@ode.ye  Female   49   \n",
            "18820   Mrs.      Kevin    Hoffman           tu@fibvo.gm  Female   46   \n",
            "19665   Mrs.      Lydia      Mason      hojatej@tukni.my  Female   55   \n",
            "20272   Mrs.      Duane     Benson  fobibowe@owosommo.vn  Female   44   \n",
            "20840    Mr.     Millie    Hawkins      ivioz@codgoke.cz  Female   65   \n",
            "22213    Mr.     Amelia      Hines   bezwek@izujowzim.tp  Female   48   \n",
            "23454    Mr.       Evan  Underwood      vuferfo@epewa.lu  Female   55   \n",
            "23999    Mr.  Katherine      Nunez          dapdev@di.kw  Female   50   \n",
            "24066    Dr.      Fanny      Adams         seotusa@bo.jp  Female   46   \n",
            "24736   Mrs.       Nell   Richards             dob@me.ki  Female   18   \n",
            "24741    Dr.      Ralph      Casey          tazoz@dod.ir  Female   18   \n",
            "25107    Mr.    Jeffrey      Perry       onigor@gapar.li  Female   65   \n",
            "26382   Miss      Jimmy    Kennedy     dahvo@borieve.edu  Female   51   \n",
            "26836   Miss    Lillian   Caldwell           fifa@viz.bb  Female   50   \n",
            "28399   Mrs.    Leonard      Henry    ajiga@tibhevola.bz  Female   18   \n",
            "28432    Mr.       Lena  Robertson     cihe@daszobzav.fk  Female   60   \n",
            "28497    Dr.        Sam     Gibson             jas@ja.tk  Female   24   \n",
            "29865   Mrs.        Don   McDaniel           naf@zudu.bj  Female   37   \n",
            "\n",
            "                              company           profession           phone  \\\n",
            "15                          CSX Corp.  Structural Engineer  (263) 382-8004   \n",
            "321                        Paccar Inc  Structural Engineer  (449) 626-2305   \n",
            "347            Grey Global Group Inc.  Structural Engineer  (245) 248-3190   \n",
            "1985   D&K Healthcare Resources, Inc.  Structural Engineer  (356) 423-4839   \n",
            "2231                  Sealed Air Corp  Structural Engineer  (344) 296-7596   \n",
            "2585          Northwest Airlines Corp  Structural Engineer  (579) 362-9165   \n",
            "4196       GreenPoint Financial Corp.  Structural Engineer  (367) 452-3092   \n",
            "4348    Longs Drug Stores Corporation  Structural Engineer  (974) 848-6284   \n",
            "4494                 AdvancePCS, Inc.  Structural Engineer  (713) 669-8623   \n",
            "4925               Lennar Corporation  Structural Engineer  (361) 979-9964   \n",
            "6088             Edison International  Structural Engineer  (379) 362-3046   \n",
            "6463    Wellpoint Health Networks Inc  Structural Engineer  (856) 706-8907   \n",
            "8601             Waste Management Inc  Structural Engineer  (212) 459-4416   \n",
            "8858       Cincinnati Financial Corp.  Structural Engineer  (876) 758-2929   \n",
            "8910   The McGraw-Hill Companies Inc.  Structural Engineer  (331) 838-1549   \n",
            "9058              BJ Services Company  Structural Engineer  (305) 786-6959   \n",
            "9564                   DTE Energy Co.  Structural Engineer  (279) 976-7122   \n",
            "9816                     Hubbell Inc.  Structural Engineer  (955) 893-3807   \n",
            "9915                 Southern Company  Structural Engineer  (450) 909-8715   \n",
            "11580          McDonald's Corporation  Structural Engineer  (877) 283-5557   \n",
            "12494       Golden State Bancorp Inc.  Structural Engineer  (327) 254-1013   \n",
            "12533                       3Com Corp  Structural Engineer  (339) 384-6834   \n",
            "13923                 Broadwing, Inc.  Structural Engineer  (786) 852-1297   \n",
            "16444             Williams Sonoma Inc  Structural Engineer  (300) 593-2472   \n",
            "17339                      Sequa Corp  Structural Engineer  (670) 539-9623   \n",
            "18808                   Sara Lee Corp  Structural Engineer  (741) 795-9366   \n",
            "18816                        PPL Corp  Structural Engineer  (650) 392-2703   \n",
            "18820       Prudential Financial Inc.  Structural Engineer  (478) 976-8270   \n",
            "19665              PPG Industries Inc  Structural Engineer  (966) 484-8218   \n",
            "20272                 PerkinElmer Inc  Structural Engineer  (537) 500-6791   \n",
            "20840                  Citigroup, Inc  Structural Engineer  (556) 838-9697   \n",
            "22213              SunTrust Banks Inc  Structural Engineer  (701) 659-7207   \n",
            "23454  Maxim Integrated Products Inc.  Structural Engineer  (206) 409-5417   \n",
            "23999             Washington Post Co.  Structural Engineer  (316) 582-6077   \n",
            "24066    Northrop Grumman Corporation  Structural Engineer  (380) 275-4271   \n",
            "24736    Telephone & Data Systems Inc  Structural Engineer  (262) 681-5018   \n",
            "24741      General Motors Corporation  Structural Engineer  (518) 384-9632   \n",
            "25107              Levi Strauss & Co.  Structural Engineer  (876) 663-5197   \n",
            "26382                 IMC Global Inc.  Structural Engineer  (569) 311-7838   \n",
            "26836           Dun & Bradstreet Inc.  Structural Engineer  (650) 966-6423   \n",
            "28399                Duke Energy Corp  Structural Engineer  (721) 772-8211   \n",
            "28432                        SPX Corp  Structural Engineer  (461) 676-8301   \n",
            "28497      Northeast Utilities System  Structural Engineer  (312) 725-4447   \n",
            "29865  Anadarko Petroleum Corporation  Structural Engineer  (238) 789-2825   \n",
            "\n",
            "        postal province             cc_no   cc_exp  \\\n",
            "15     V7K 1E3       ON    30000000000000  11/2022   \n",
            "321    X4V 3X0       NT  5130000000000000  08/2020   \n",
            "347    P3E 1L7       NS  6200000000000000  09/2019   \n",
            "1985   N4L 4I4       PE  6280000000000000  04/2025   \n",
            "2231   E0E 7H5       QC  6280000000000000  04/2021   \n",
            "2585   J3D 4Z2       PE  6370000000000000  11/2026   \n",
            "4196   B7D 7N4       NB  6010000000000000  11/2021   \n",
            "4348   R1C 9A9       SK  6330000000000000  01/2021   \n",
            "4494   N2C 4C9       MB  6280000000000000  06/2020   \n",
            "4925   P6U 8I9       NL  4720000000000000  06/2025   \n",
            "6088   K5W 8F5       NT  4900000000000000  03/2024   \n",
            "6463   N1Q 7R6       PE  5180000000000000  05/2023   \n",
            "8601   L2A 9U5       NB  5450000000000000  04/2020   \n",
            "8858   N5A 6L2       AB  6300000000000000  02/2022   \n",
            "8910   K1X 6D7       NB   201000000000000  07/2018   \n",
            "9058   N3R 4B7       AB   201000000000000  06/2019   \n",
            "9564   J6I 6Z6       QC  5020000000000000  03/2025   \n",
            "9816   T9V 1T1       NU  3530000000000000  10/2023   \n",
            "9915   L5B 7M2       NS  6330000000000000  09/2027   \n",
            "11580  L9O 2E8       MB   349000000000000  10/2027   \n",
            "12494  E8E 6N2       PE  5610000000000000  10/2024   \n",
            "12533  K0Y 3L0       ON   350000000000000  03/2026   \n",
            "13923  G7Q 4B2       BC  4900000000000000  06/2025   \n",
            "16444  T5R 8N8       NL  6370000000000000  07/2027   \n",
            "17339  X5Y 9A1       NB  5610000000000000  03/2022   \n",
            "18808  M1Y 2X5       ON  6370000000000000  02/2027   \n",
            "18816  H1E 6U8       YT  6210000000000000  12/2027   \n",
            "18820  S1R 1U7       NT  6280000000000000  12/2028   \n",
            "19665  M8M 7H4       NS  6280000000000000  08/2023   \n",
            "20272  G8C 1X4       SK   341000000000000  08/2026   \n",
            "20840  X1F 0T4       PE  6280000000000000  09/2020   \n",
            "22213  K2D 0B0       NL  6370000000000000  11/2027   \n",
            "23454  X9P 7D2       NU  5430000000000000  01/2025   \n",
            "23999  X3L 7G4       NT  3530000000000000  03/2023   \n",
            "24066  K2F 9S0       SK  6010000000000000  01/2028   \n",
            "24736  N3Y 3G2       AB   347000000000000  07/2028   \n",
            "24741  K8R 1B6       NS   201000000000000  10/2023   \n",
            "25107  X7S 2V7       ON  6010000000000000  12/2020   \n",
            "26382  H5O 6D5       BC  6220000000000000  07/2021   \n",
            "26836  P1F 6Y8       NU  6370000000000000  09/2028   \n",
            "28399  P1O 5Q9       YT  5610000000000000  06/2021   \n",
            "28432  H5K 7E7       ON    36900000000000  02/2024   \n",
            "28497  N6C 8K0       NB  5610000000000000  06/2027   \n",
            "29865  B4A 8Q9       AB  5610000000000000  12/2022   \n",
            "\n",
            "                                  cc_type  price(CAD) fav_color  \\\n",
            "15              Diners Club Carte Blanche        9.61    Yellow   \n",
            "321                                  Visa       43.81       Red   \n",
            "347                              Bankcard       49.95      Blue   \n",
            "1985                                 Visa       68.81     Green   \n",
            "2231                                 Visa       17.59      Blue   \n",
            "2585                           Mastercard       83.15     White   \n",
            "4196                       China UnionPay       23.27    Yellow   \n",
            "4348                       China UnionPay       22.19       Red   \n",
            "4494                                 Visa       61.17     Green   \n",
            "4925                             Bankcard       90.00       Red   \n",
            "6088                        Discover Card       88.72     Black   \n",
            "6463            Diners Club Carte Blanche       91.72       Red   \n",
            "8601                        Visa Electron       58.69     White   \n",
            "8858                         InstaPayment       31.86       Red   \n",
            "8910                         InstaPayment       41.80     White   \n",
            "9058   Diners Club United States & Canada       53.29     Black   \n",
            "9564                                 Solo       74.16       Red   \n",
            "9816                                  JCB       35.16       Red   \n",
            "9915                              Maestro       53.07     Green   \n",
            "11580                                Visa       56.78    Yellow   \n",
            "12494                      China UnionPay        8.39     White   \n",
            "12533           Diners Club International       13.67       Red   \n",
            "13923                        InstaPayment       69.63     Black   \n",
            "16444                               Laser       67.63     Green   \n",
            "17339                                 JCB       80.58    Yellow   \n",
            "18808                          Mastercard        5.49     Green   \n",
            "18816                                Solo       85.25      Blue   \n",
            "18820  Diners Club United States & Canada       60.32    Yellow   \n",
            "19665                        InstaPayment        3.48      Blue   \n",
            "20272                              Switch       34.83     White   \n",
            "20840                 Diners Club enRoute       65.19     White   \n",
            "22213                             Maestro       25.44       Red   \n",
            "23454           Diners Club International       71.73      Blue   \n",
            "23999                      China UnionPay       71.16     White   \n",
            "24066                          Mastercard       63.28       Red   \n",
            "24736                    American Express       76.28      Blue   \n",
            "24741                       Visa Electron       65.67     Black   \n",
            "25107                             Maestro       34.26       Red   \n",
            "26382           Diners Club International       55.89     Black   \n",
            "26836                       Visa Electron       47.52     Black   \n",
            "28399                    American Express       41.03     Green   \n",
            "28432                             Maestro       26.24    Yellow   \n",
            "28497           Diners Club Carte Blanche       69.14     Green   \n",
            "29865                          Mastercard       62.71      Blue   \n",
            "\n",
            "                    ip    weekday ampm        date  \n",
            "15       74.124.37.227   Saturday   am  03/30/1985  \n",
            "321      118.75.16.237     Sunday   am  02/07/1984  \n",
            "347      8.231.132.162     Monday   am  04/03/2057  \n",
            "1985      214.7.139.19     Sunday   am  04/10/2069  \n",
            "2231       207.13.56.5     Sunday   pm  10/20/1949  \n",
            "2585    73.186.162.180   Thursday   am  12/26/2009  \n",
            "4196    51.143.198.217     Monday   pm  05/07/1963  \n",
            "4348     133.91.166.86  Wednesday   am  05/06/2061  \n",
            "4494      124.38.50.74     Sunday   pm  01/26/1949  \n",
            "4925   154.156.209.236     Monday   am  06/15/2025  \n",
            "6088   125.190.252.123     Monday   pm  01/09/1953  \n",
            "6463     17.204.223.90     Sunday   pm  01/09/2060  \n",
            "8601    161.62.192.246   Saturday   pm  05/02/1901  \n",
            "8858    165.249.159.57     Sunday   pm  12/25/1903  \n",
            "8910     128.62.87.183   Saturday   pm  09/24/1957  \n",
            "9058    42.216.243.206   Thursday   pm  06/06/2028  \n",
            "9564   232.171.121.253   Thursday   am  12/06/1959  \n",
            "9816    247.142.145.94     Sunday   am  10/02/2025  \n",
            "9915     69.224.252.25   Thursday   am  04/09/1998  \n",
            "11580   231.118.211.97  Wednesday   am  12/12/1973  \n",
            "12494      1.1.223.172  Wednesday   pm  05/22/2070  \n",
            "12533   182.140.176.50    Tuesday   pm  08/02/1912  \n",
            "13923  129.135.155.110   Saturday   pm  05/02/1919  \n",
            "16444    148.6.228.140    Tuesday   am  06/16/2011  \n",
            "17339   52.117.181.173   Saturday   am  02/05/1922  \n",
            "18808     142.51.152.7     Monday   pm  02/04/1946  \n",
            "18816    9.104.209.167     Friday   am  01/05/2002  \n",
            "18820  143.240.113.212     Sunday   am  06/12/2039  \n",
            "19665    87.226.95.168     Friday   pm  08/19/2057  \n",
            "20272     63.61.64.154   Saturday   pm  08/02/1905  \n",
            "20840    203.138.8.243     Friday   am  07/07/2056  \n",
            "22213    77.202.77.233     Sunday   am  10/16/1948  \n",
            "23454     62.159.72.93     Sunday   pm  09/29/2022  \n",
            "23999  241.148.120.158    Tuesday   pm  09/18/1994  \n",
            "24066    143.67.77.170   Saturday   am  07/12/2069  \n",
            "24736     91.16.30.156  Wednesday   pm  07/14/1951  \n",
            "24741   221.92.142.159  Wednesday   am  02/17/2014  \n",
            "25107       9.53.91.98  Wednesday   am  01/16/2012  \n",
            "26382  152.197.239.139     Sunday   am  08/18/1955  \n",
            "26836   212.170.186.33     Friday   am  06/29/2058  \n",
            "28399   131.15.183.183     Friday   pm  01/20/2013  \n",
            "28432    160.189.15.61  Wednesday   pm  02/28/2012  \n",
            "28497     129.6.70.145     Friday   pm  11/17/2057  \n",
            "29865  162.233.117.142     Sunday   pm  11/03/1989  \n"
          ]
        }
      ],
      "source": [
        "SE_gen = df[(df[\"profession\"] == \"Structural Engineer\") & (df[\"gender\"] == \"Female\")]\n",
        "print(SE_gen)"
      ]
    },
    {
      "cell_type": "code",
      "execution_count": null,
      "metadata": {
        "id": "JMhXZg0pdcQC",
        "outputId": "1c7d923e-5b3e-4dc6-9b97-3df2c19a56ed"
      },
      "outputs": [
        {
          "data": {
            "text/html": [
              "<div>\n",
              "<style>\n",
              "    .dataframe thead tr:only-child th {\n",
              "        text-align: right;\n",
              "    }\n",
              "\n",
              "    .dataframe thead th {\n",
              "        text-align: left;\n",
              "    }\n",
              "\n",
              "    .dataframe tbody tr th {\n",
              "        vertical-align: top;\n",
              "    }\n",
              "</style>\n",
              "<table border=\"1\" class=\"dataframe\">\n",
              "  <thead>\n",
              "    <tr style=\"text-align: right;\">\n",
              "      <th></th>\n",
              "      <th>prefix</th>\n",
              "      <th>first</th>\n",
              "      <th>last</th>\n",
              "      <th>email</th>\n",
              "      <th>gender</th>\n",
              "      <th>age</th>\n",
              "      <th>company</th>\n",
              "      <th>profession</th>\n",
              "      <th>phone</th>\n",
              "      <th>postal</th>\n",
              "      <th>province</th>\n",
              "      <th>cc_no</th>\n",
              "      <th>cc_exp</th>\n",
              "      <th>cc_type</th>\n",
              "      <th>price(CAD)</th>\n",
              "      <th>fav_color</th>\n",
              "      <th>ip</th>\n",
              "      <th>weekday</th>\n",
              "      <th>ampm</th>\n",
              "      <th>date</th>\n",
              "    </tr>\n",
              "  </thead>\n",
              "  <tbody>\n",
              "    <tr>\n",
              "      <th>8858</th>\n",
              "      <td>Dr.</td>\n",
              "      <td>Roy</td>\n",
              "      <td>Stanley</td>\n",
              "      <td>apiunvo@ehasom.ir</td>\n",
              "      <td>Female</td>\n",
              "      <td>39</td>\n",
              "      <td>Cincinnati Financial Corp.</td>\n",
              "      <td>Structural Engineer</td>\n",
              "      <td>(876) 758-2929</td>\n",
              "      <td>N5A 6L2</td>\n",
              "      <td>AB</td>\n",
              "      <td>6300000000000000</td>\n",
              "      <td>02/2022</td>\n",
              "      <td>InstaPayment</td>\n",
              "      <td>31.86</td>\n",
              "      <td>Red</td>\n",
              "      <td>165.249.159.57</td>\n",
              "      <td>Sunday</td>\n",
              "      <td>pm</td>\n",
              "      <td>12/25/1903</td>\n",
              "    </tr>\n",
              "    <tr>\n",
              "      <th>9058</th>\n",
              "      <td>Mr.</td>\n",
              "      <td>Lora</td>\n",
              "      <td>Kennedy</td>\n",
              "      <td>dennap@rabac.se</td>\n",
              "      <td>Female</td>\n",
              "      <td>51</td>\n",
              "      <td>BJ Services Company</td>\n",
              "      <td>Structural Engineer</td>\n",
              "      <td>(305) 786-6959</td>\n",
              "      <td>N3R 4B7</td>\n",
              "      <td>AB</td>\n",
              "      <td>201000000000000</td>\n",
              "      <td>06/2019</td>\n",
              "      <td>Diners Club United States &amp; Canada</td>\n",
              "      <td>53.29</td>\n",
              "      <td>Black</td>\n",
              "      <td>42.216.243.206</td>\n",
              "      <td>Thursday</td>\n",
              "      <td>pm</td>\n",
              "      <td>06/06/2028</td>\n",
              "    </tr>\n",
              "    <tr>\n",
              "      <th>24736</th>\n",
              "      <td>Mrs.</td>\n",
              "      <td>Nell</td>\n",
              "      <td>Richards</td>\n",
              "      <td>dob@me.ki</td>\n",
              "      <td>Female</td>\n",
              "      <td>18</td>\n",
              "      <td>Telephone &amp; Data Systems Inc</td>\n",
              "      <td>Structural Engineer</td>\n",
              "      <td>(262) 681-5018</td>\n",
              "      <td>N3Y 3G2</td>\n",
              "      <td>AB</td>\n",
              "      <td>347000000000000</td>\n",
              "      <td>07/2028</td>\n",
              "      <td>American Express</td>\n",
              "      <td>76.28</td>\n",
              "      <td>Blue</td>\n",
              "      <td>91.16.30.156</td>\n",
              "      <td>Wednesday</td>\n",
              "      <td>pm</td>\n",
              "      <td>07/14/1951</td>\n",
              "    </tr>\n",
              "    <tr>\n",
              "      <th>29865</th>\n",
              "      <td>Mrs.</td>\n",
              "      <td>Don</td>\n",
              "      <td>McDaniel</td>\n",
              "      <td>naf@zudu.bj</td>\n",
              "      <td>Female</td>\n",
              "      <td>37</td>\n",
              "      <td>Anadarko Petroleum Corporation</td>\n",
              "      <td>Structural Engineer</td>\n",
              "      <td>(238) 789-2825</td>\n",
              "      <td>B4A 8Q9</td>\n",
              "      <td>AB</td>\n",
              "      <td>5610000000000000</td>\n",
              "      <td>12/2022</td>\n",
              "      <td>Mastercard</td>\n",
              "      <td>62.71</td>\n",
              "      <td>Blue</td>\n",
              "      <td>162.233.117.142</td>\n",
              "      <td>Sunday</td>\n",
              "      <td>pm</td>\n",
              "      <td>11/03/1989</td>\n",
              "    </tr>\n",
              "  </tbody>\n",
              "</table>\n",
              "</div>"
            ],
            "text/plain": [
              "      prefix first      last              email  gender  age  \\\n",
              "8858     Dr.   Roy   Stanley  apiunvo@ehasom.ir  Female   39   \n",
              "9058     Mr.  Lora   Kennedy    dennap@rabac.se  Female   51   \n",
              "24736   Mrs.  Nell  Richards          dob@me.ki  Female   18   \n",
              "29865   Mrs.   Don  McDaniel        naf@zudu.bj  Female   37   \n",
              "\n",
              "                              company           profession           phone  \\\n",
              "8858       Cincinnati Financial Corp.  Structural Engineer  (876) 758-2929   \n",
              "9058              BJ Services Company  Structural Engineer  (305) 786-6959   \n",
              "24736    Telephone & Data Systems Inc  Structural Engineer  (262) 681-5018   \n",
              "29865  Anadarko Petroleum Corporation  Structural Engineer  (238) 789-2825   \n",
              "\n",
              "        postal province             cc_no   cc_exp  \\\n",
              "8858   N5A 6L2       AB  6300000000000000  02/2022   \n",
              "9058   N3R 4B7       AB   201000000000000  06/2019   \n",
              "24736  N3Y 3G2       AB   347000000000000  07/2028   \n",
              "29865  B4A 8Q9       AB  5610000000000000  12/2022   \n",
              "\n",
              "                                  cc_type  price(CAD) fav_color  \\\n",
              "8858                         InstaPayment       31.86       Red   \n",
              "9058   Diners Club United States & Canada       53.29     Black   \n",
              "24736                    American Express       76.28      Blue   \n",
              "29865                          Mastercard       62.71      Blue   \n",
              "\n",
              "                    ip    weekday ampm        date  \n",
              "8858    165.249.159.57     Sunday   pm  12/25/1903  \n",
              "9058    42.216.243.206   Thursday   pm  06/06/2028  \n",
              "24736     91.16.30.156  Wednesday   pm  07/14/1951  \n",
              "29865  162.233.117.142     Sunday   pm  11/03/1989  "
            ]
          },
          "execution_count": 11,
          "metadata": {},
          "output_type": "execute_result"
        }
      ],
      "source": []
    },
    {
      "cell_type": "markdown",
      "metadata": {
        "id": "7skjVx43dcQC"
      },
      "source": [
        "**10. What is the max, min and average spending?**"
      ]
    },
    {
      "cell_type": "code",
      "execution_count": 66,
      "metadata": {
        "collapsed": true,
        "id": "w1Wo4-FedcQC",
        "colab": {
          "base_uri": "https://localhost:8080/"
        },
        "outputId": "b33a177d-a801-4696-d99f-f42d5966f000"
      },
      "outputs": [
        {
          "output_type": "stream",
          "name": "stdout",
          "text": [
            "Max. spending is:  100.0\n",
            "Min. spending is:  0.0\n",
            "Avg. spending is:  49.990775\n"
          ]
        }
      ],
      "source": [
        "print(\"Max. spending is: \",df['price(CAD)'].max())\n",
        "print(\"Min. spending is: \",df['price(CAD)'].min())\n",
        "print(\"Avg. spending is: \",df['price(CAD)'].mean())"
      ]
    },
    {
      "cell_type": "code",
      "execution_count": null,
      "metadata": {
        "id": "om75sfXedcQC",
        "outputId": "fcd84ce1-1aee-4c46-804e-11d94d648a4d"
      },
      "outputs": [
        {
          "name": "stdout",
          "output_type": "stream",
          "text": [
            "Max. spending:  100.0\n",
            "Mai. spending:  0.0\n",
            "Avg. spending:  49.990775000000184\n"
          ]
        }
      ],
      "source": []
    },
    {
      "cell_type": "markdown",
      "metadata": {
        "id": "JkBzqTZWdcQC"
      },
      "source": [
        "**11. Who did not spend anything? Company wants to send a deal to encourage the customer to buy stuff!**"
      ]
    },
    {
      "cell_type": "code",
      "execution_count": 67,
      "metadata": {
        "collapsed": true,
        "id": "HZLIcUpPdcQC",
        "colab": {
          "base_uri": "https://localhost:8080/"
        },
        "outputId": "3d714142-5f76-49c8-9960-d9c0f8a0812e"
      },
      "outputs": [
        {
          "output_type": "stream",
          "name": "stdout",
          "text": [
            "      prefix  first   last           email  gender  age              company  \\\n",
            "5320     Dr.  Bruce  Bryan  ru@pubuspuh.cl    Male   59  Wal-Mart Stores Inc   \n",
            "10597   Mrs.  Flora  Clark      wad@me.com  Female   27         MetLife Inc.   \n",
            "\n",
            "                profession           phone   postal province            cc_no  \\\n",
            "5320   Engineer Technician  (709) 446-8317  H6H 3Y0       NU  201000000000000   \n",
            "10597      Cruise Director  (775) 373-6590  B2U 8K6       NB   30100000000000   \n",
            "\n",
            "        cc_exp                    cc_type  price(CAD) fav_color  \\\n",
            "5320   04/2024                   Bankcard         0.0     White   \n",
            "10597  05/2020  Diners Club Carte Blanche         0.0       Red   \n",
            "\n",
            "                  ip    weekday ampm        date  \n",
            "5320     82.70.62.64  Wednesday   am  12/11/1900  \n",
            "10597  231.156.15.63   Thursday   pm  08/22/1904  \n"
          ]
        }
      ],
      "source": [
        "spend = df[df[\"price(CAD)\"] == 0]\n",
        "print(spend)"
      ]
    },
    {
      "cell_type": "code",
      "execution_count": null,
      "metadata": {
        "id": "y9sUTmGgdcQE",
        "outputId": "de745c50-0251-4c39-d192-bf6e98803865"
      },
      "outputs": [
        {
          "data": {
            "text/html": [
              "<div>\n",
              "<style>\n",
              "    .dataframe thead tr:only-child th {\n",
              "        text-align: right;\n",
              "    }\n",
              "\n",
              "    .dataframe thead th {\n",
              "        text-align: left;\n",
              "    }\n",
              "\n",
              "    .dataframe tbody tr th {\n",
              "        vertical-align: top;\n",
              "    }\n",
              "</style>\n",
              "<table border=\"1\" class=\"dataframe\">\n",
              "  <thead>\n",
              "    <tr style=\"text-align: right;\">\n",
              "      <th></th>\n",
              "      <th>prefix</th>\n",
              "      <th>first</th>\n",
              "      <th>last</th>\n",
              "      <th>email</th>\n",
              "      <th>gender</th>\n",
              "      <th>age</th>\n",
              "      <th>company</th>\n",
              "      <th>profession</th>\n",
              "      <th>phone</th>\n",
              "      <th>postal</th>\n",
              "      <th>province</th>\n",
              "      <th>cc_no</th>\n",
              "      <th>cc_exp</th>\n",
              "      <th>cc_type</th>\n",
              "      <th>price(CAD)</th>\n",
              "      <th>fav_color</th>\n",
              "      <th>ip</th>\n",
              "      <th>weekday</th>\n",
              "      <th>ampm</th>\n",
              "      <th>date</th>\n",
              "    </tr>\n",
              "  </thead>\n",
              "  <tbody>\n",
              "    <tr>\n",
              "      <th>5320</th>\n",
              "      <td>Dr.</td>\n",
              "      <td>Bruce</td>\n",
              "      <td>Bryan</td>\n",
              "      <td>ru@pubuspuh.cl</td>\n",
              "      <td>Male</td>\n",
              "      <td>59</td>\n",
              "      <td>Wal-Mart Stores Inc</td>\n",
              "      <td>Engineer Technician</td>\n",
              "      <td>(709) 446-8317</td>\n",
              "      <td>H6H 3Y0</td>\n",
              "      <td>NU</td>\n",
              "      <td>201000000000000</td>\n",
              "      <td>04/2024</td>\n",
              "      <td>Bankcard</td>\n",
              "      <td>0.0</td>\n",
              "      <td>White</td>\n",
              "      <td>82.70.62.64</td>\n",
              "      <td>Wednesday</td>\n",
              "      <td>am</td>\n",
              "      <td>12/11/1900</td>\n",
              "    </tr>\n",
              "    <tr>\n",
              "      <th>10597</th>\n",
              "      <td>Mrs.</td>\n",
              "      <td>Flora</td>\n",
              "      <td>Clark</td>\n",
              "      <td>wad@me.com</td>\n",
              "      <td>Female</td>\n",
              "      <td>27</td>\n",
              "      <td>MetLife Inc.</td>\n",
              "      <td>Cruise Director</td>\n",
              "      <td>(775) 373-6590</td>\n",
              "      <td>B2U 8K6</td>\n",
              "      <td>NB</td>\n",
              "      <td>30100000000000</td>\n",
              "      <td>05/2020</td>\n",
              "      <td>Diners Club Carte Blanche</td>\n",
              "      <td>0.0</td>\n",
              "      <td>Red</td>\n",
              "      <td>231.156.15.63</td>\n",
              "      <td>Thursday</td>\n",
              "      <td>pm</td>\n",
              "      <td>08/22/1904</td>\n",
              "    </tr>\n",
              "  </tbody>\n",
              "</table>\n",
              "</div>"
            ],
            "text/plain": [
              "      prefix  first   last           email  gender  age              company  \\\n",
              "5320     Dr.  Bruce  Bryan  ru@pubuspuh.cl    Male   59  Wal-Mart Stores Inc   \n",
              "10597   Mrs.  Flora  Clark      wad@me.com  Female   27         MetLife Inc.   \n",
              "\n",
              "                profession           phone   postal province            cc_no  \\\n",
              "5320   Engineer Technician  (709) 446-8317  H6H 3Y0       NU  201000000000000   \n",
              "10597      Cruise Director  (775) 373-6590  B2U 8K6       NB   30100000000000   \n",
              "\n",
              "        cc_exp                    cc_type  price(CAD) fav_color  \\\n",
              "5320   04/2024                   Bankcard         0.0     White   \n",
              "10597  05/2020  Diners Club Carte Blanche         0.0       Red   \n",
              "\n",
              "                  ip    weekday ampm        date  \n",
              "5320     82.70.62.64  Wednesday   am  12/11/1900  \n",
              "10597  231.156.15.63   Thursday   pm  08/22/1904  "
            ]
          },
          "execution_count": 13,
          "metadata": {},
          "output_type": "execute_result"
        }
      ],
      "source": []
    },
    {
      "cell_type": "markdown",
      "metadata": {
        "id": "PQEq20TBdcQE"
      },
      "source": [
        "**12. As a loyalty reward, company wants to send thanks coupon to those who spent 100CAD or more, please find out the customers?**"
      ]
    },
    {
      "cell_type": "code",
      "execution_count": 68,
      "metadata": {
        "collapsed": true,
        "id": "Rrg-hyUudcQE",
        "colab": {
          "base_uri": "https://localhost:8080/"
        },
        "outputId": "9fdf7670-78cc-431e-a560-92b016d18efd"
      },
      "outputs": [
        {
          "output_type": "stream",
          "name": "stdout",
          "text": [
            "      prefix    first         last          email  gender  age  \\\n",
            "76      Mrs.  Gregory        Brown     hav@jek.gs  Female   31   \n",
            "21093   Mrs.     Cody  Christensen    get@jovu.ag    Male   28   \n",
            "24385   Miss   Lizzie        Dixon  goh@tuwjaz.gd  Female   38   \n",
            "\n",
            "                         company              profession           phone  \\\n",
            "76           E*Trade Group, Inc.                Novelist  (625) 537-8923   \n",
            "21093        National City Corp.  Hospital Administrator  (261) 737-3292   \n",
            "24385  FleetBoston Financial Co.    Compensation Analyst  (989) 239-1752   \n",
            "\n",
            "        postal province             cc_no   cc_exp   cc_type  price(CAD)  \\\n",
            "76     X3S 4Q2       PE  6010000000000000  04/2018      Visa       100.0   \n",
            "21093  X0S 1O5       PE   201000000000000  03/2024       JCB       100.0   \n",
            "24385  V8X 9V6       NB  6300000000000000  07/2019  Bankcard       100.0   \n",
            "\n",
            "      fav_color             ip    weekday ampm        date  \n",
            "76        Green  212.100.18.95     Monday   am  10/23/2063  \n",
            "21093     Green  168.48.19.165  Wednesday   pm  03/28/1955  \n",
            "24385      Blue   140.87.99.78   Saturday   pm  03/03/1983  \n"
          ]
        }
      ],
      "source": [
        "lr = df[df[\"price(CAD)\"] >= 100]\n",
        "print(lr)"
      ]
    },
    {
      "cell_type": "code",
      "execution_count": null,
      "metadata": {
        "scrolled": true,
        "id": "2_IDwurEdcQF",
        "outputId": "9bc7b388-394f-4f12-ff2f-1f63a2bb1a41"
      },
      "outputs": [
        {
          "data": {
            "text/html": [
              "<div>\n",
              "<style>\n",
              "    .dataframe thead tr:only-child th {\n",
              "        text-align: right;\n",
              "    }\n",
              "\n",
              "    .dataframe thead th {\n",
              "        text-align: left;\n",
              "    }\n",
              "\n",
              "    .dataframe tbody tr th {\n",
              "        vertical-align: top;\n",
              "    }\n",
              "</style>\n",
              "<table border=\"1\" class=\"dataframe\">\n",
              "  <thead>\n",
              "    <tr style=\"text-align: right;\">\n",
              "      <th></th>\n",
              "      <th>prefix</th>\n",
              "      <th>first</th>\n",
              "      <th>last</th>\n",
              "      <th>email</th>\n",
              "      <th>gender</th>\n",
              "      <th>age</th>\n",
              "      <th>company</th>\n",
              "      <th>profession</th>\n",
              "      <th>phone</th>\n",
              "      <th>postal</th>\n",
              "      <th>province</th>\n",
              "      <th>cc_no</th>\n",
              "      <th>cc_exp</th>\n",
              "      <th>cc_type</th>\n",
              "      <th>price(CAD)</th>\n",
              "      <th>fav_color</th>\n",
              "      <th>ip</th>\n",
              "      <th>weekday</th>\n",
              "      <th>ampm</th>\n",
              "      <th>date</th>\n",
              "    </tr>\n",
              "  </thead>\n",
              "  <tbody>\n",
              "    <tr>\n",
              "      <th>76</th>\n",
              "      <td>Mrs.</td>\n",
              "      <td>Gregory</td>\n",
              "      <td>Brown</td>\n",
              "      <td>hav@jek.gs</td>\n",
              "      <td>Female</td>\n",
              "      <td>31</td>\n",
              "      <td>E*Trade Group, Inc.</td>\n",
              "      <td>Novelist</td>\n",
              "      <td>(625) 537-8923</td>\n",
              "      <td>X3S 4Q2</td>\n",
              "      <td>PE</td>\n",
              "      <td>6010000000000000</td>\n",
              "      <td>04/2018</td>\n",
              "      <td>Visa</td>\n",
              "      <td>100.0</td>\n",
              "      <td>Green</td>\n",
              "      <td>212.100.18.95</td>\n",
              "      <td>Monday</td>\n",
              "      <td>am</td>\n",
              "      <td>10/23/2063</td>\n",
              "    </tr>\n",
              "    <tr>\n",
              "      <th>21093</th>\n",
              "      <td>Mrs.</td>\n",
              "      <td>Cody</td>\n",
              "      <td>Christensen</td>\n",
              "      <td>get@jovu.ag</td>\n",
              "      <td>Male</td>\n",
              "      <td>28</td>\n",
              "      <td>National City Corp.</td>\n",
              "      <td>Hospital Administrator</td>\n",
              "      <td>(261) 737-3292</td>\n",
              "      <td>X0S 1O5</td>\n",
              "      <td>PE</td>\n",
              "      <td>201000000000000</td>\n",
              "      <td>03/2024</td>\n",
              "      <td>JCB</td>\n",
              "      <td>100.0</td>\n",
              "      <td>Green</td>\n",
              "      <td>168.48.19.165</td>\n",
              "      <td>Wednesday</td>\n",
              "      <td>pm</td>\n",
              "      <td>03/28/1955</td>\n",
              "    </tr>\n",
              "    <tr>\n",
              "      <th>24385</th>\n",
              "      <td>Miss</td>\n",
              "      <td>Lizzie</td>\n",
              "      <td>Dixon</td>\n",
              "      <td>goh@tuwjaz.gd</td>\n",
              "      <td>Female</td>\n",
              "      <td>38</td>\n",
              "      <td>FleetBoston Financial Co.</td>\n",
              "      <td>Compensation Analyst</td>\n",
              "      <td>(989) 239-1752</td>\n",
              "      <td>V8X 9V6</td>\n",
              "      <td>NB</td>\n",
              "      <td>6300000000000000</td>\n",
              "      <td>07/2019</td>\n",
              "      <td>Bankcard</td>\n",
              "      <td>100.0</td>\n",
              "      <td>Blue</td>\n",
              "      <td>140.87.99.78</td>\n",
              "      <td>Saturday</td>\n",
              "      <td>pm</td>\n",
              "      <td>03/03/1983</td>\n",
              "    </tr>\n",
              "  </tbody>\n",
              "</table>\n",
              "</div>"
            ],
            "text/plain": [
              "      prefix    first         last          email  gender  age  \\\n",
              "76      Mrs.  Gregory        Brown     hav@jek.gs  Female   31   \n",
              "21093   Mrs.     Cody  Christensen    get@jovu.ag    Male   28   \n",
              "24385   Miss   Lizzie        Dixon  goh@tuwjaz.gd  Female   38   \n",
              "\n",
              "                         company              profession           phone  \\\n",
              "76           E*Trade Group, Inc.                Novelist  (625) 537-8923   \n",
              "21093        National City Corp.  Hospital Administrator  (261) 737-3292   \n",
              "24385  FleetBoston Financial Co.    Compensation Analyst  (989) 239-1752   \n",
              "\n",
              "        postal province             cc_no   cc_exp   cc_type  price(CAD)  \\\n",
              "76     X3S 4Q2       PE  6010000000000000  04/2018      Visa       100.0   \n",
              "21093  X0S 1O5       PE   201000000000000  03/2024       JCB       100.0   \n",
              "24385  V8X 9V6       NB  6300000000000000  07/2019  Bankcard       100.0   \n",
              "\n",
              "      fav_color             ip    weekday ampm        date  \n",
              "76        Green  212.100.18.95     Monday   am  10/23/2063  \n",
              "21093     Green  168.48.19.165  Wednesday   pm  03/28/1955  \n",
              "24385      Blue   140.87.99.78   Saturday   pm  03/03/1983  "
            ]
          },
          "execution_count": 14,
          "metadata": {},
          "output_type": "execute_result"
        }
      ],
      "source": []
    },
    {
      "cell_type": "markdown",
      "metadata": {
        "collapsed": true,
        "id": "uJJR566TdcQF"
      },
      "source": [
        "**13. How many emails are associated with this credit card number '5020000000000230'?**"
      ]
    },
    {
      "cell_type": "code",
      "execution_count": 78,
      "metadata": {
        "collapsed": true,
        "id": "ff0IB08OdcQG",
        "colab": {
          "base_uri": "https://localhost:8080/"
        },
        "outputId": "d686f9c0-022e-4365-bdef-66cf1339ad24"
      },
      "outputs": [
        {
          "output_type": "stream",
          "name": "stdout",
          "text": [
            "Series([], Name: email, dtype: object)\n"
          ]
        }
      ],
      "source": [
        "cc = df[df['cc_no']=='5020000000000230']\n",
        "print(cc['email'])"
      ]
    },
    {
      "cell_type": "code",
      "execution_count": null,
      "metadata": {
        "id": "g3Tv3F60dcQG",
        "outputId": "6d60f46d-400b-49d5-a094-abb942bb4d9a"
      },
      "outputs": [
        {
          "data": {
            "text/plain": [
              "0    sebvajom@kol.km\n",
              "1      acu@jatsot.ug\n",
              "Name: email, dtype: object"
            ]
          },
          "execution_count": 15,
          "metadata": {},
          "output_type": "execute_result"
        }
      ],
      "source": []
    },
    {
      "cell_type": "markdown",
      "metadata": {
        "id": "HAj9LBbNdcQG"
      },
      "source": [
        "**14. We need to send new cards to the customers well before the expire, how many cards are expiring in 2019?**<br>\n",
        "*Use `sum()` and `count()` and see the difference in their use :)*"
      ]
    },
    {
      "cell_type": "code",
      "execution_count": 95,
      "metadata": {
        "collapsed": true,
        "id": "8jUo_BLmdcQG",
        "colab": {
          "base_uri": "https://localhost:8080/"
        },
        "outputId": "823b1156-c86b-49e0-c6b2-7ce08b52f773"
      },
      "outputs": [
        {
          "output_type": "stream",
          "name": "stdout",
          "text": [
            "2684\n"
          ]
        }
      ],
      "source": [
        "df1 = df[\"cc_exp\"].apply(lambda x: x[5:])\n",
        "df1 = df1[df1 == '19']\n",
        "df1 = df1.count()\n",
        "print(df1)"
      ]
    },
    {
      "cell_type": "code",
      "execution_count": null,
      "metadata": {
        "id": "Suc8jKq_dcQI",
        "outputId": "a1a304a9-4199-418c-dbce-9fbbf287dbfd"
      },
      "outputs": [
        {
          "data": {
            "text/plain": [
              "2684"
            ]
          },
          "execution_count": 16,
          "metadata": {},
          "output_type": "execute_result"
        }
      ],
      "source": [
        "#cust[cust['cc_exp'].apply(lambda x: x[5:]) == '19'].count()\n"
      ]
    },
    {
      "cell_type": "markdown",
      "metadata": {
        "collapsed": true,
        "id": "CSca9vmEdcQJ"
      },
      "source": [
        "**15. How many people use Visa as their Credit Card Provider?**"
      ]
    },
    {
      "cell_type": "code",
      "execution_count": 103,
      "metadata": {
        "collapsed": true,
        "id": "17IghvF-dcQJ",
        "colab": {
          "base_uri": "https://localhost:8080/"
        },
        "outputId": "e7021c2e-f34f-4b66-f654-48f3f9c24ee1"
      },
      "outputs": [
        {
          "output_type": "stream",
          "name": "stdout",
          "text": [
            "prefix        1721\n",
            "first         1721\n",
            "last          1721\n",
            "email         1721\n",
            "gender        1721\n",
            "age           1721\n",
            "company       1721\n",
            "profession    1721\n",
            "phone         1721\n",
            "postal        1721\n",
            "province      1721\n",
            "cc_no         1721\n",
            "cc_exp        1721\n",
            "cc_type       1721\n",
            "price(CAD)    1721\n",
            "fav_color     1721\n",
            "ip            1721\n",
            "weekday       1721\n",
            "ampm          1721\n",
            "date          1721\n",
            "dtype: int64\n"
          ]
        }
      ],
      "source": [
        "visa = df[df[\"cc_type\"] == \"Visa\"]\n",
        "print(visa.count())"
      ]
    },
    {
      "cell_type": "code",
      "execution_count": null,
      "metadata": {
        "id": "r75KVAmLdcQK",
        "outputId": "ebd30236-20b0-4cae-a735-d2c946bafbb8"
      },
      "outputs": [
        {
          "data": {
            "text/plain": [
              "1721"
            ]
          },
          "execution_count": 17,
          "metadata": {},
          "output_type": "execute_result"
        }
      ],
      "source": []
    },
    {
      "cell_type": "markdown",
      "metadata": {
        "collapsed": true,
        "id": "DEequkfrdcQK"
      },
      "source": [
        "**16. Can you find the customer who spent 100 CAD using Visa?**"
      ]
    },
    {
      "cell_type": "code",
      "execution_count": 104,
      "metadata": {
        "collapsed": true,
        "id": "Mz2MbzD9dcQK",
        "colab": {
          "base_uri": "https://localhost:8080/"
        },
        "outputId": "0b1e14a6-48a7-45db-8ec3-035b2b806a32"
      },
      "outputs": [
        {
          "output_type": "stream",
          "name": "stdout",
          "text": [
            "   prefix    first   last       email  gender  age              company  \\\n",
            "76   Mrs.  Gregory  Brown  hav@jek.gs  Female   31  E*Trade Group, Inc.   \n",
            "\n",
            "   profession           phone   postal province             cc_no   cc_exp  \\\n",
            "76   Novelist  (625) 537-8923  X3S 4Q2       PE  6010000000000000  04/2018   \n",
            "\n",
            "   cc_type  price(CAD) fav_color             ip weekday ampm        date  \n",
            "76    Visa       100.0     Green  212.100.18.95  Monday   am  10/23/2063  \n"
          ]
        }
      ],
      "source": [
        "spent_visa = df[(df[\"cc_type\"] == \"Visa\") & (df[\"price(CAD)\"] == 100)]\n",
        "print(spent_visa)"
      ]
    },
    {
      "cell_type": "code",
      "execution_count": null,
      "metadata": {
        "id": "QgMCuSUddcQK",
        "outputId": "47fa128a-f680-40c1-89c3-8e2da9305eae"
      },
      "outputs": [
        {
          "data": {
            "text/html": [
              "<div>\n",
              "<style>\n",
              "    .dataframe thead tr:only-child th {\n",
              "        text-align: right;\n",
              "    }\n",
              "\n",
              "    .dataframe thead th {\n",
              "        text-align: left;\n",
              "    }\n",
              "\n",
              "    .dataframe tbody tr th {\n",
              "        vertical-align: top;\n",
              "    }\n",
              "</style>\n",
              "<table border=\"1\" class=\"dataframe\">\n",
              "  <thead>\n",
              "    <tr style=\"text-align: right;\">\n",
              "      <th></th>\n",
              "      <th>prefix</th>\n",
              "      <th>first</th>\n",
              "      <th>last</th>\n",
              "      <th>email</th>\n",
              "      <th>gender</th>\n",
              "      <th>age</th>\n",
              "      <th>company</th>\n",
              "      <th>profession</th>\n",
              "      <th>phone</th>\n",
              "      <th>postal</th>\n",
              "      <th>province</th>\n",
              "      <th>cc_no</th>\n",
              "      <th>cc_exp</th>\n",
              "      <th>cc_type</th>\n",
              "      <th>price(CAD)</th>\n",
              "      <th>fav_color</th>\n",
              "      <th>ip</th>\n",
              "      <th>weekday</th>\n",
              "      <th>ampm</th>\n",
              "      <th>date</th>\n",
              "    </tr>\n",
              "  </thead>\n",
              "  <tbody>\n",
              "    <tr>\n",
              "      <th>76</th>\n",
              "      <td>Mrs.</td>\n",
              "      <td>Gregory</td>\n",
              "      <td>Brown</td>\n",
              "      <td>hav@jek.gs</td>\n",
              "      <td>Female</td>\n",
              "      <td>31</td>\n",
              "      <td>E*Trade Group, Inc.</td>\n",
              "      <td>Novelist</td>\n",
              "      <td>(625) 537-8923</td>\n",
              "      <td>X3S 4Q2</td>\n",
              "      <td>PE</td>\n",
              "      <td>6010000000000000</td>\n",
              "      <td>04/2018</td>\n",
              "      <td>Visa</td>\n",
              "      <td>100.0</td>\n",
              "      <td>Green</td>\n",
              "      <td>212.100.18.95</td>\n",
              "      <td>Monday</td>\n",
              "      <td>am</td>\n",
              "      <td>10/23/2063</td>\n",
              "    </tr>\n",
              "  </tbody>\n",
              "</table>\n",
              "</div>"
            ],
            "text/plain": [
              "   prefix    first   last       email  gender  age              company  \\\n",
              "76   Mrs.  Gregory  Brown  hav@jek.gs  Female   31  E*Trade Group, Inc.   \n",
              "\n",
              "   profession           phone   postal province             cc_no   cc_exp  \\\n",
              "76   Novelist  (625) 537-8923  X3S 4Q2       PE  6010000000000000  04/2018   \n",
              "\n",
              "   cc_type  price(CAD) fav_color             ip weekday ampm        date  \n",
              "76    Visa       100.0     Green  212.100.18.95  Monday   am  10/23/2063  "
            ]
          },
          "execution_count": 18,
          "metadata": {},
          "output_type": "execute_result"
        }
      ],
      "source": []
    },
    {
      "cell_type": "markdown",
      "metadata": {
        "id": "FvprahiCdcQK"
      },
      "source": [
        "**17. What are two most common professions?**"
      ]
    },
    {
      "cell_type": "code",
      "execution_count": 105,
      "metadata": {
        "collapsed": true,
        "id": "s8QPlbYodcQL",
        "colab": {
          "base_uri": "https://localhost:8080/"
        },
        "outputId": "06c28bee-2401-435d-bf83-e909edf98e0a"
      },
      "outputs": [
        {
          "output_type": "stream",
          "name": "stdout",
          "text": [
            "profession\n",
            "Preschool Teacher       112\n",
            "Distribution Manager    107\n",
            "Name: count, dtype: int64\n"
          ]
        }
      ],
      "source": [
        "profession_counts = df['profession'].value_counts()\n",
        "profession_counts = profession_counts.head(2)\n",
        "print(profession_counts)"
      ]
    },
    {
      "cell_type": "code",
      "execution_count": null,
      "metadata": {
        "id": "cEMXJAw_dcQM",
        "outputId": "00d13dab-e383-4d43-8bc2-5437caf0b7f3"
      },
      "outputs": [
        {
          "data": {
            "text/plain": [
              "Preschool Teacher       112\n",
              "Distribution Manager    107\n",
              "Name: profession, dtype: int64"
            ]
          },
          "execution_count": 19,
          "metadata": {},
          "output_type": "execute_result"
        }
      ],
      "source": []
    },
    {
      "cell_type": "markdown",
      "metadata": {
        "collapsed": true,
        "id": "EA_5phNRdcQM"
      },
      "source": [
        "**18. Can you tell the top 5 most popular email providers? (e.g. gmail.com, yahoo.com, etc...)**"
      ]
    },
    {
      "cell_type": "code",
      "execution_count": 106,
      "metadata": {
        "collapsed": true,
        "id": "_IJuw4zrdcQM",
        "colab": {
          "base_uri": "https://localhost:8080/"
        },
        "outputId": "3d22e503-b943-4919-827b-cb883b0962a2"
      },
      "outputs": [
        {
          "output_type": "stream",
          "name": "stdout",
          "text": [
            "email\n",
            "gmail.com      1687\n",
            "me.com         1676\n",
            "outlook.com    1664\n",
            "live.com       1660\n",
            "hotmail.com    1659\n",
            "Name: count, dtype: int64\n"
          ]
        }
      ],
      "source": [
        "email = df[\"email\"].apply(lambda x: x.split('@')[1])\n",
        "email = email.value_counts()\n",
        "email = email.head(5)\n",
        "print(email)"
      ]
    },
    {
      "cell_type": "code",
      "execution_count": null,
      "metadata": {
        "id": "X-tiwzssdcQN",
        "outputId": "ea0a8cfd-7539-4e78-b4bf-970f662262a5"
      },
      "outputs": [
        {
          "data": {
            "text/plain": [
              "gmail.com      1687\n",
              "me.com         1676\n",
              "outlook.com    1664\n",
              "live.com       1660\n",
              "hotmail.com    1659\n",
              "Name: email, dtype: int64"
            ]
          },
          "execution_count": 20,
          "metadata": {},
          "output_type": "execute_result"
        }
      ],
      "source": []
    },
    {
      "cell_type": "markdown",
      "metadata": {
        "collapsed": true,
        "id": "CePPAqMBdcQN"
      },
      "source": [
        "**19. Is there any customer who is using email with \"am.edu\"?**<br>\n",
        "Hint: Use `lambda` expression in `apply()`. split the email address at `@`.  "
      ]
    },
    {
      "cell_type": "code",
      "execution_count": 108,
      "metadata": {
        "collapsed": true,
        "id": "gUQ6eBYvdcQN",
        "colab": {
          "base_uri": "https://localhost:8080/"
        },
        "outputId": "ef802fe8-1493-487e-9b13-3707db69480c"
      },
      "outputs": [
        {
          "output_type": "stream",
          "name": "stdout",
          "text": [
            "    prefix    first      last         email  gender  age  \\\n",
            "150   Miss  Loretta  Fletcher  barit@am.edu  Female   48   \n",
            "\n",
            "                     company                profession           phone  \\\n",
            "150  York International Corp  Rehabilitation Counselor  (323) 279-8038   \n",
            "\n",
            "      postal province             cc_no   cc_exp  \\\n",
            "150  E5X 8L0       QC  6330000000000000  05/2021   \n",
            "\n",
            "                                cc_type  price(CAD) fav_color              ip  \\\n",
            "150  Diners Club United States & Canada       97.26     White  147.57.240.225   \n",
            "\n",
            "    weekday ampm        date  \n",
            "150  Monday   am  11/07/2066  \n"
          ]
        }
      ],
      "source": [
        "email_am = df[df[\"email\"].apply(lambda x: x.split('@')[1])=='am.edu']\n",
        "print(email_am)"
      ]
    },
    {
      "cell_type": "code",
      "execution_count": null,
      "metadata": {
        "id": "4v98ssxFdcQO",
        "outputId": "33edf1a2-37e6-4cc6-b1b2-0265f571c420"
      },
      "outputs": [
        {
          "data": {
            "text/html": [
              "<div>\n",
              "<style>\n",
              "    .dataframe thead tr:only-child th {\n",
              "        text-align: right;\n",
              "    }\n",
              "\n",
              "    .dataframe thead th {\n",
              "        text-align: left;\n",
              "    }\n",
              "\n",
              "    .dataframe tbody tr th {\n",
              "        vertical-align: top;\n",
              "    }\n",
              "</style>\n",
              "<table border=\"1\" class=\"dataframe\">\n",
              "  <thead>\n",
              "    <tr style=\"text-align: right;\">\n",
              "      <th></th>\n",
              "      <th>prefix</th>\n",
              "      <th>first</th>\n",
              "      <th>last</th>\n",
              "      <th>email</th>\n",
              "      <th>gender</th>\n",
              "      <th>age</th>\n",
              "      <th>company</th>\n",
              "      <th>profession</th>\n",
              "      <th>phone</th>\n",
              "      <th>postal</th>\n",
              "      <th>province</th>\n",
              "      <th>cc_no</th>\n",
              "      <th>cc_exp</th>\n",
              "      <th>cc_type</th>\n",
              "      <th>price(CAD)</th>\n",
              "      <th>fav_color</th>\n",
              "      <th>ip</th>\n",
              "      <th>weekday</th>\n",
              "      <th>ampm</th>\n",
              "      <th>date</th>\n",
              "    </tr>\n",
              "  </thead>\n",
              "  <tbody>\n",
              "    <tr>\n",
              "      <th>150</th>\n",
              "      <td>Miss</td>\n",
              "      <td>Loretta</td>\n",
              "      <td>Fletcher</td>\n",
              "      <td>barit@am.edu</td>\n",
              "      <td>Female</td>\n",
              "      <td>48</td>\n",
              "      <td>York International Corp</td>\n",
              "      <td>Rehabilitation Counselor</td>\n",
              "      <td>(323) 279-8038</td>\n",
              "      <td>E5X 8L0</td>\n",
              "      <td>QC</td>\n",
              "      <td>6330000000000000</td>\n",
              "      <td>05/2021</td>\n",
              "      <td>Diners Club United States &amp; Canada</td>\n",
              "      <td>97.26</td>\n",
              "      <td>White</td>\n",
              "      <td>147.57.240.225</td>\n",
              "      <td>Monday</td>\n",
              "      <td>am</td>\n",
              "      <td>11/07/2066</td>\n",
              "    </tr>\n",
              "  </tbody>\n",
              "</table>\n",
              "</div>"
            ],
            "text/plain": [
              "    prefix    first      last         email  gender  age  \\\n",
              "150   Miss  Loretta  Fletcher  barit@am.edu  Female   48   \n",
              "\n",
              "                     company                profession           phone  \\\n",
              "150  York International Corp  Rehabilitation Counselor  (323) 279-8038   \n",
              "\n",
              "      postal province             cc_no   cc_exp  \\\n",
              "150  E5X 8L0       QC  6330000000000000  05/2021   \n",
              "\n",
              "                                cc_type  price(CAD) fav_color              ip  \\\n",
              "150  Diners Club United States & Canada       97.26     White  147.57.240.225   \n",
              "\n",
              "    weekday ampm        date  \n",
              "150  Monday   am  11/07/2066  "
            ]
          },
          "execution_count": 21,
          "metadata": {},
          "output_type": "execute_result"
        }
      ],
      "source": []
    },
    {
      "cell_type": "markdown",
      "metadata": {
        "collapsed": true,
        "id": "siHyhlozdcQO"
      },
      "source": [
        "**20. Which day of the week, the store gets more customers?**"
      ]
    },
    {
      "cell_type": "code",
      "execution_count": 110,
      "metadata": {
        "collapsed": true,
        "id": "cEzSl008dcQO",
        "colab": {
          "base_uri": "https://localhost:8080/"
        },
        "outputId": "17a85876-ef8b-4ab5-b463-fee282ee8ff4"
      },
      "outputs": [
        {
          "output_type": "stream",
          "name": "stdout",
          "text": [
            "weekday\n",
            "Saturday     4376\n",
            "Wednesday    4365\n",
            "Thursday     4327\n",
            "Friday       4316\n",
            "Monday       4216\n",
            "Name: count, dtype: int64\n"
          ]
        }
      ],
      "source": [
        "customer_count = df['weekday'].value_counts().head(5)\n",
        "print(customer_count)"
      ]
    },
    {
      "cell_type": "code",
      "execution_count": null,
      "metadata": {
        "id": "xhxrbS4MdcQO",
        "outputId": "5946b435-1cf8-4aa9-e271-e9a50cb1780d"
      },
      "outputs": [
        {
          "data": {
            "text/plain": [
              "Saturday     4376\n",
              "Wednesday    4365\n",
              "Thursday     4327\n",
              "Friday       4316\n",
              "Monday       4216\n",
              "Name: weekday, dtype: int64"
            ]
          },
          "execution_count": 22,
          "metadata": {},
          "output_type": "execute_result"
        }
      ],
      "source": []
    },
    {
      "cell_type": "markdown",
      "metadata": {
        "id": "lijgu_33dcQO"
      },
      "source": [
        "# Excellent work!"
      ]
    }
  ],
  "metadata": {
    "kernelspec": {
      "display_name": "Python 3 (ipykernel)",
      "language": "python",
      "name": "python3"
    },
    "language_info": {
      "codemirror_mode": {
        "name": "ipython",
        "version": 3
      },
      "file_extension": ".py",
      "mimetype": "text/x-python",
      "name": "python",
      "nbconvert_exporter": "python",
      "pygments_lexer": "ipython3",
      "version": "3.11.5"
    },
    "colab": {
      "provenance": [],
      "include_colab_link": true
    }
  },
  "nbformat": 4,
  "nbformat_minor": 0
}